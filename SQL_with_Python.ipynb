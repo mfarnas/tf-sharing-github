{
  "nbformat": 4,
  "nbformat_minor": 0,
  "metadata": {
    "colab": {
      "name": "FR_SQL_with_Python.ipynb",
      "provenance": [],
      "authorship_tag": "ABX9TyOR0VRFwl9JzmO836xjJjMg"
    },
    "kernelspec": {
      "name": "python3",
      "display_name": "Python 3"
    }
  },
  "cells": [
    {
      "cell_type": "code",
      "metadata": {
        "id": "czsOspP2QmNk",
        "colab_type": "code",
        "colab": {
          "base_uri": "https://localhost:8080/",
          "height": 154
        },
        "outputId": "955476c0-f814-4b54-e8af-b27ed8158058"
      },
      "source": [
        "# !pip install sqlalchemy\n",
        "# !pip install psycopg2\n",
        "# !pip install psycopg2-binary"
      ],
      "execution_count": 1,
      "outputs": [
        {
          "output_type": "stream",
          "text": [
            "Requirement already satisfied: sqlalchemy in /usr/local/lib/python3.6/dist-packages (1.3.13)\n",
            "Requirement already satisfied: psycopg2 in /usr/local/lib/python3.6/dist-packages (2.7.6.1)\n",
            "Collecting psycopg2-binary\n",
            "\u001b[?25l  Downloading https://files.pythonhosted.org/packages/1e/c0/16303cef8d54fdcfae7be7880cf471f21449225687f61cc3be2a7ef4e6e5/psycopg2_binary-2.8.4-cp36-cp36m-manylinux1_x86_64.whl (2.9MB)\n",
            "\u001b[K     |████████████████████████████████| 2.9MB 4.9MB/s \n",
            "\u001b[?25hInstalling collected packages: psycopg2-binary\n",
            "Successfully installed psycopg2-binary-2.8.4\n"
          ],
          "name": "stdout"
        }
      ]
    },
    {
      "cell_type": "code",
      "metadata": {
        "id": "1eqlnBmwQnbD",
        "colab_type": "code",
        "colab": {}
      },
      "source": [
        "# Import the SQL ALchemy engine\n",
        "from sqlalchemy import create_engine, inspect\n",
        "import pandas as pd"
      ],
      "execution_count": 0,
      "outputs": []
    },
    {
      "cell_type": "code",
      "metadata": {
        "id": "dDwbWEwfQr8z",
        "colab_type": "code",
        "colab": {}
      },
      "source": [
        "# Database credentials\n",
        "postgres_user = 'dsbc_student'\n",
        "postgres_pw = '7*.8G9QH21'\n",
        "postgres_host = '142.93.121.174'\n",
        "postgres_port = '5432'\n",
        "postgres_db = 'dvdrentals' #database_name\n",
        "\n",
        "# use the credentials to start a connection\n",
        "engine = create_engine('postgresql://{}:{}@{}:{}/{}'.format(\n",
        "    postgres_user, postgres_pw, postgres_host, postgres_port, postgres_db))"
      ],
      "execution_count": 0,
      "outputs": []
    },
    {
      "cell_type": "code",
      "metadata": {
        "id": "ZuIwSAFWWh_E",
        "colab_type": "code",
        "colab": {
          "base_uri": "https://localhost:8080/",
          "height": 1000
        },
        "outputId": "fae653fb-a8a3-4249-cfe8-43f2f0bfda90"
      },
      "source": [
        "# inspect table_names & corresponding column_names in dvdrentals database\n",
        "inspector = inspect(engine)\n",
        "\n",
        "for table_name in inspector.get_table_names():\n",
        "  print('\\nTable: ' + table_name)\n",
        "\n",
        "  column_list = []\n",
        "  for column in inspector.get_columns(table_name):\n",
        "       column_list.append(column['name'])\n",
        "  print('Columns: {}'.format(column_list))"
      ],
      "execution_count": 4,
      "outputs": [
        {
          "output_type": "stream",
          "text": [
            "\n",
            "Table: actor\n",
            "Columns: ['actor_id', 'first_name', 'last_name', 'last_update']\n",
            "\n",
            "Table: address\n",
            "Columns: ['address_id', 'address', 'address2', 'district', 'city_id', 'postal_code', 'phone', 'last_update']\n",
            "\n",
            "Table: category\n",
            "Columns: ['category_id', 'name', 'last_update']\n",
            "\n",
            "Table: city\n",
            "Columns: ['city_id', 'city', 'country_id', 'last_update']\n",
            "\n",
            "Table: country\n",
            "Columns: ['country_id', 'country', 'last_update']\n",
            "\n",
            "Table: customer\n",
            "Columns: ['customer_id', 'store_id', 'first_name', 'last_name', 'email', 'address_id', 'activebool', 'create_date', 'last_update', 'active']\n",
            "\n",
            "Table: film_actor\n",
            "Columns: ['actor_id', 'film_id', 'last_update']\n",
            "\n",
            "Table: film_category\n",
            "Columns: ['film_id', 'category_id', 'last_update']\n",
            "\n",
            "Table: inventory\n",
            "Columns: ['inventory_id', 'film_id', 'store_id', 'last_update']\n",
            "\n",
            "Table: language\n",
            "Columns: ['language_id', 'name', 'last_update']\n",
            "\n",
            "Table: Example\n",
            "Columns: ['id', 'name']\n",
            "\n",
            "Table: MYDATA\n",
            "Columns: ['station', 'name', 'latitude', 'longitude', 'elevation', 'date', 'prcp']\n",
            "\n",
            "Table: film\n",
            "Columns: ['film_id', 'title', 'description', 'release_year', 'language_id', 'original_language_id', 'rental_duration', 'rental_rate', 'length', 'replacement_cost', 'rating', 'last_update', 'special_features', 'fulltext']\n",
            "\n",
            "Table: nyweather\n",
            "Columns: ['station', 'station_name', 'date', 'prcp']\n",
            "\n",
            "Table: payment\n",
            "Columns: ['payment_id', 'customer_id', 'staff_id', 'rental_id', 'amount', 'payment_date']\n",
            "\n",
            "Table: payment_p2007_01\n",
            "Columns: ['payment_id', 'customer_id', 'staff_id', 'rental_id', 'amount', 'payment_date']\n",
            "\n",
            "Table: payment_p2007_02\n",
            "Columns: ['payment_id', 'customer_id', 'staff_id', 'rental_id', 'amount', 'payment_date']\n",
            "\n",
            "Table: payment_p2007_03\n",
            "Columns: ['payment_id', 'customer_id', 'staff_id', 'rental_id', 'amount', 'payment_date']\n",
            "\n",
            "Table: payment_p2007_04\n",
            "Columns: ['payment_id', 'customer_id', 'staff_id', 'rental_id', 'amount', 'payment_date']\n",
            "\n",
            "Table: payment_p2007_05\n",
            "Columns: ['payment_id', 'customer_id', 'staff_id', 'rental_id', 'amount', 'payment_date']\n",
            "\n",
            "Table: payment_p2007_06\n",
            "Columns: ['payment_id', 'customer_id', 'staff_id', 'rental_id', 'amount', 'payment_date']\n",
            "\n",
            "Table: rental\n",
            "Columns: ['rental_id', 'rental_date', 'inventory_id', 'customer_id', 'return_date', 'staff_id', 'last_update']\n",
            "\n",
            "Table: staff\n",
            "Columns: ['staff_id', 'first_name', 'last_name', 'address_id', 'email', 'store_id', 'active', 'username', 'password', 'last_update', 'picture']\n",
            "\n",
            "Table: store\n",
            "Columns: ['store_id', 'manager_staff_id', 'address_id', 'last_update']\n"
          ],
          "name": "stdout"
        }
      ]
    },
    {
      "cell_type": "markdown",
      "metadata": {
        "id": "lH9wm_mEcKHM",
        "colab_type": "text"
      },
      "source": [
        "# DRILLS\n",
        "## 1. How many movies are released for each rating?"
      ]
    },
    {
      "cell_type": "code",
      "metadata": {
        "id": "V8i47TyDVTji",
        "colab_type": "code",
        "colab": {
          "base_uri": "https://localhost:8080/",
          "height": 194
        },
        "outputId": "866bd8d6-815e-4055-c208-fa91819b4990"
      },
      "source": [
        "# SQL statement\n",
        "sql = '''\n",
        "SELECT DISTINCT rating, COUNT(*) AS movie_count\n",
        "FROM film\n",
        "GROUP BY rating\n",
        "'''\n",
        "\n",
        "# Execute the SQL statement\n",
        "movies = engine.execute(sql)\n",
        "\n",
        "# dispose the connection\n",
        "engine.dispose()\n",
        "\n",
        "# use fetchall() to get a list of rows from the results.\n",
        "rows = movies.fetchall()\n",
        "\n",
        "# convert to df\n",
        "rows_df = pd.DataFrame(rows, columns = movies.keys())\n",
        "rows_df"
      ],
      "execution_count": 5,
      "outputs": [
        {
          "output_type": "execute_result",
          "data": {
            "text/html": [
              "<div>\n",
              "<style scoped>\n",
              "    .dataframe tbody tr th:only-of-type {\n",
              "        vertical-align: middle;\n",
              "    }\n",
              "\n",
              "    .dataframe tbody tr th {\n",
              "        vertical-align: top;\n",
              "    }\n",
              "\n",
              "    .dataframe thead th {\n",
              "        text-align: right;\n",
              "    }\n",
              "</style>\n",
              "<table border=\"1\" class=\"dataframe\">\n",
              "  <thead>\n",
              "    <tr style=\"text-align: right;\">\n",
              "      <th></th>\n",
              "      <th>rating</th>\n",
              "      <th>movie_count</th>\n",
              "    </tr>\n",
              "  </thead>\n",
              "  <tbody>\n",
              "    <tr>\n",
              "      <th>0</th>\n",
              "      <td>G</td>\n",
              "      <td>178</td>\n",
              "    </tr>\n",
              "    <tr>\n",
              "      <th>1</th>\n",
              "      <td>PG</td>\n",
              "      <td>194</td>\n",
              "    </tr>\n",
              "    <tr>\n",
              "      <th>2</th>\n",
              "      <td>PG-13</td>\n",
              "      <td>223</td>\n",
              "    </tr>\n",
              "    <tr>\n",
              "      <th>3</th>\n",
              "      <td>R</td>\n",
              "      <td>195</td>\n",
              "    </tr>\n",
              "    <tr>\n",
              "      <th>4</th>\n",
              "      <td>NC-17</td>\n",
              "      <td>210</td>\n",
              "    </tr>\n",
              "  </tbody>\n",
              "</table>\n",
              "</div>"
            ],
            "text/plain": [
              "  rating  movie_count\n",
              "0      G          178\n",
              "1     PG          194\n",
              "2  PG-13          223\n",
              "3      R          195\n",
              "4  NC-17          210"
            ]
          },
          "metadata": {
            "tags": []
          },
          "execution_count": 5
        }
      ]
    },
    {
      "cell_type": "markdown",
      "metadata": {
        "id": "_lfR72DGdk5x",
        "colab_type": "text"
      },
      "source": [
        "## 2. What is the average rental duration for each rating?"
      ]
    },
    {
      "cell_type": "code",
      "metadata": {
        "id": "CjyGbYVeVT1j",
        "colab_type": "code",
        "colab": {
          "base_uri": "https://localhost:8080/",
          "height": 194
        },
        "outputId": "b4eeddbb-de5c-40c0-caa4-2502257f45ef"
      },
      "source": [
        "# SQL statement\n",
        "sql = '''\n",
        "SELECT DISTINCT rating, ROUND(AVG(rental_duration), 2) AS avg_rental_duration\n",
        "FROM film\n",
        "GROUP BY rating;\n",
        "'''\n",
        "\n",
        "# Execute the SQL statement\n",
        "movies = engine.execute(sql)\n",
        "\n",
        "# dispose the connection\n",
        "engine.dispose()\n",
        "\n",
        "# use fetchall() to get a list of rows from the results.\n",
        "rows = movies.fetchall()\n",
        "\n",
        "# convert to df\n",
        "rows_df = pd.DataFrame(rows, columns = movies.keys())\n",
        "rows_df"
      ],
      "execution_count": 6,
      "outputs": [
        {
          "output_type": "execute_result",
          "data": {
            "text/html": [
              "<div>\n",
              "<style scoped>\n",
              "    .dataframe tbody tr th:only-of-type {\n",
              "        vertical-align: middle;\n",
              "    }\n",
              "\n",
              "    .dataframe tbody tr th {\n",
              "        vertical-align: top;\n",
              "    }\n",
              "\n",
              "    .dataframe thead th {\n",
              "        text-align: right;\n",
              "    }\n",
              "</style>\n",
              "<table border=\"1\" class=\"dataframe\">\n",
              "  <thead>\n",
              "    <tr style=\"text-align: right;\">\n",
              "      <th></th>\n",
              "      <th>rating</th>\n",
              "      <th>avg_rental_duration</th>\n",
              "    </tr>\n",
              "  </thead>\n",
              "  <tbody>\n",
              "    <tr>\n",
              "      <th>0</th>\n",
              "      <td>G</td>\n",
              "      <td>4.84</td>\n",
              "    </tr>\n",
              "    <tr>\n",
              "      <th>1</th>\n",
              "      <td>PG</td>\n",
              "      <td>5.08</td>\n",
              "    </tr>\n",
              "    <tr>\n",
              "      <th>2</th>\n",
              "      <td>PG-13</td>\n",
              "      <td>5.05</td>\n",
              "    </tr>\n",
              "    <tr>\n",
              "      <th>3</th>\n",
              "      <td>R</td>\n",
              "      <td>4.77</td>\n",
              "    </tr>\n",
              "    <tr>\n",
              "      <th>4</th>\n",
              "      <td>NC-17</td>\n",
              "      <td>5.14</td>\n",
              "    </tr>\n",
              "  </tbody>\n",
              "</table>\n",
              "</div>"
            ],
            "text/plain": [
              "  rating avg_rental_duration\n",
              "0      G                4.84\n",
              "1     PG                5.08\n",
              "2  PG-13                5.05\n",
              "3      R                4.77\n",
              "4  NC-17                5.14"
            ]
          },
          "metadata": {
            "tags": []
          },
          "execution_count": 6
        }
      ]
    },
    {
      "cell_type": "markdown",
      "metadata": {
        "id": "jIOKGjFGd4Yo",
        "colab_type": "text"
      },
      "source": [
        "## 3. What is the mean movie length? Calculate this by defining a function."
      ]
    },
    {
      "cell_type": "code",
      "metadata": {
        "id": "qirO0q5Td65E",
        "colab_type": "code",
        "colab": {
          "base_uri": "https://localhost:8080/",
          "height": 35
        },
        "outputId": "8264c334-e23d-4a74-d215-d41cfa2d733c"
      },
      "source": [
        "def average(num_list):\n",
        "  total = 0\n",
        "  for i in num_list:\n",
        "    total += i\n",
        "\n",
        "  avg = total/len(num_list)\n",
        "  return avg\n",
        "\n",
        "# test\n",
        "average([2,4,6])"
      ],
      "execution_count": 7,
      "outputs": [
        {
          "output_type": "execute_result",
          "data": {
            "text/plain": [
              "4.0"
            ]
          },
          "metadata": {
            "tags": []
          },
          "execution_count": 7
        }
      ]
    },
    {
      "cell_type": "code",
      "metadata": {
        "id": "E2ghvASfhtYz",
        "colab_type": "code",
        "colab": {
          "base_uri": "https://localhost:8080/",
          "height": 35
        },
        "outputId": "8a7adec6-866d-4238-941e-45915e6c813f"
      },
      "source": [
        "# SQL statement\n",
        "sql = '''\n",
        "SELECT length\n",
        "FROM film;\n",
        "'''\n",
        "\n",
        "# Execute the SQL statement\n",
        "length = engine.execute(sql)\n",
        "\n",
        "# dispose the connection\n",
        "engine.dispose()\n",
        "\n",
        "# use fetchall() to get a list of rows from the results.\n",
        "rows = length.fetchall()\n",
        "type(rows) #RowProxy\n",
        "\n",
        "# extract numeric value from RowProxy objects into a list of numbers\n",
        "length = [x['length'] for x in rows]\n",
        "\n",
        "print('Mean movie length: {}'.format(average(length)))"
      ],
      "execution_count": 8,
      "outputs": [
        {
          "output_type": "stream",
          "text": [
            "Mean movie length: 115.272\n"
          ],
          "name": "stdout"
        }
      ]
    },
    {
      "cell_type": "code",
      "metadata": {
        "id": "GXXpE6chi3xy",
        "colab_type": "code",
        "colab": {
          "base_uri": "https://localhost:8080/",
          "height": 35
        },
        "outputId": "5fd987bb-e474-4348-b893-188287bb2ac2"
      },
      "source": [
        "# double check using sql\n",
        "sql = '''\n",
        "SELECT ROUND(AVG(length), 3)\n",
        "FROM film;\n",
        "'''\n",
        "\n",
        "# Execute the SQL statement\n",
        "length = engine.execute(sql)\n",
        "\n",
        "# dispose the connection\n",
        "engine.dispose()\n",
        "\n",
        "rows = length.fetchall()\n",
        "rows[0][0]"
      ],
      "execution_count": 9,
      "outputs": [
        {
          "output_type": "execute_result",
          "data": {
            "text/plain": [
              "Decimal('115.272')"
            ]
          },
          "metadata": {
            "tags": []
          },
          "execution_count": 9
        }
      ]
    },
    {
      "cell_type": "markdown",
      "metadata": {
        "id": "UHNR8W8xdskf",
        "colab_type": "text"
      },
      "source": [
        "## 4. What is the median movie length? Calculate this by defining a function."
      ]
    },
    {
      "cell_type": "code",
      "metadata": {
        "id": "bK1RSVSRVUOi",
        "colab_type": "code",
        "colab": {
          "base_uri": "https://localhost:8080/",
          "height": 35
        },
        "outputId": "2fc67cb2-c2d1-43af-8ee0-8122d0d32a7a"
      },
      "source": [
        "def median(num_list):\n",
        "  num_list.sort()\n",
        "  len_list = len(num_list)\n",
        "\n",
        "  if len_list % 2 == 0:\n",
        "    mid_index = int(len_list/2 - 1)\n",
        "    result = (num_list[mid_index] + num_list[mid_index + 1])/2\n",
        "\n",
        "  else:\n",
        "    mid_index = int(round(len_list/2) - 1)\n",
        "    result = num_list[mid_index]\n",
        "\n",
        "  return result\n",
        "\n",
        "# test\n",
        "median([4,8,2,6]) #5\n",
        "median([4,2,6]) #4"
      ],
      "execution_count": 10,
      "outputs": [
        {
          "output_type": "execute_result",
          "data": {
            "text/plain": [
              "4"
            ]
          },
          "metadata": {
            "tags": []
          },
          "execution_count": 10
        }
      ]
    },
    {
      "cell_type": "code",
      "metadata": {
        "id": "VRvEGYOAmzIs",
        "colab_type": "code",
        "colab": {
          "base_uri": "https://localhost:8080/",
          "height": 35
        },
        "outputId": "17e37003-a067-479f-9479-b44b8ea7d537"
      },
      "source": [
        "# SQL statement\n",
        "sql = '''\n",
        "SELECT length\n",
        "FROM film;\n",
        "'''\n",
        "\n",
        "# Execute the SQL statement\n",
        "length = engine.execute(sql)\n",
        "\n",
        "# dispose the connection\n",
        "engine.dispose()\n",
        "\n",
        "# use fetchall() to get a list of rows from the results.\n",
        "rows = length.fetchall()\n",
        "\n",
        "# extract numeric value from RowProxy objects into a list of numbers\n",
        "length = [x['length'] for x in rows]\n",
        "\n",
        "print('Median movie length: {}'.format(median(length)))"
      ],
      "execution_count": 11,
      "outputs": [
        {
          "output_type": "stream",
          "text": [
            "Median movie length: 114.0\n"
          ],
          "name": "stdout"
        }
      ]
    },
    {
      "cell_type": "markdown",
      "metadata": {
        "id": "4B5MLnkgdtvH",
        "colab_type": "text"
      },
      "source": [
        "## 5. Calculate the standard deviation of the movie lengths. Calculate this by defining a function.\n",
        "#### Standard Deviation\n",
        "$$ \\sigma  = \\sqrt\\frac{\\sum(X - \\bar X)^2}{N - 1} $$\n",
        "Where \n",
        " * $X$ - Each individual value\n",
        " * $\\bar X$ - The mean of all values\n",
        " * $ \\sum$ - The sum of whatever comes next\n",
        " * $ N $ - The total number of values"
      ]
    },
    {
      "cell_type": "code",
      "metadata": {
        "id": "24-IEFu0VUWu",
        "colab_type": "code",
        "colab": {
          "base_uri": "https://localhost:8080/",
          "height": 35
        },
        "outputId": "82031dcf-08e4-4e9f-f398-0e40e8f06b08"
      },
      "source": [
        "def std_dev(num_list):\n",
        "  mean = average(num_list)\n",
        "  len_list = len(num_list)\n",
        "\n",
        "  sum_of_square_of_difference = 0\n",
        "  for i in num_list:\n",
        "    square_of_diff = (i - mean)**2\n",
        "    sum_of_square_of_difference += square_of_diff\n",
        "\n",
        "  numerator = sum_of_square_of_difference\n",
        "  denominator = len_list - 1\n",
        "\n",
        "  return round((numerator/denominator)**0.5, 3)\n",
        "\n",
        "std_dev([4,5,6])"
      ],
      "execution_count": 12,
      "outputs": [
        {
          "output_type": "execute_result",
          "data": {
            "text/plain": [
              "1.0"
            ]
          },
          "metadata": {
            "tags": []
          },
          "execution_count": 12
        }
      ]
    },
    {
      "cell_type": "code",
      "metadata": {
        "id": "VC6JCXatVUaa",
        "colab_type": "code",
        "colab": {
          "base_uri": "https://localhost:8080/",
          "height": 35
        },
        "outputId": "d868feab-3fa1-4a1b-b693-9fd27c353b6c"
      },
      "source": [
        "# SQL statement\n",
        "sql = '''\n",
        "SELECT length\n",
        "FROM film;\n",
        "'''\n",
        "\n",
        "# Execute the SQL statement\n",
        "length = engine.execute(sql)\n",
        "\n",
        "# dispose the connection\n",
        "engine.dispose()\n",
        "\n",
        "# use fetchall() to get a list of rows from the results.\n",
        "rows = length.fetchall()\n",
        "\n",
        "# extract numeric value from RowProxy objects into a list of numbers\n",
        "length = [x['length'] for x in rows]\n",
        "\n",
        "print('Standard deviation of movie length: {}'.format(std_dev(length)))"
      ],
      "execution_count": 13,
      "outputs": [
        {
          "output_type": "stream",
          "text": [
            "Standard deviation of movie length: 40.426\n"
          ],
          "name": "stdout"
        }
      ]
    },
    {
      "cell_type": "code",
      "metadata": {
        "id": "PzT0VbBdrqYL",
        "colab_type": "code",
        "colab": {
          "base_uri": "https://localhost:8080/",
          "height": 35
        },
        "outputId": "ef5ce0c9-3c4c-482f-b119-ada85e8a4f80"
      },
      "source": [
        "# double check using sql\n",
        "sql = '''\n",
        "SELECT ROUND(STDDEV(length), 3)\n",
        "FROM film;\n",
        "'''\n",
        "\n",
        "# Execute the SQL statement\n",
        "length = engine.execute(sql)\n",
        "\n",
        "# dispose the connection\n",
        "engine.dispose()\n",
        "\n",
        "rows = length.fetchall()\n",
        "rows[0][0]"
      ],
      "execution_count": 14,
      "outputs": [
        {
          "output_type": "execute_result",
          "data": {
            "text/plain": [
              "Decimal('40.426')"
            ]
          },
          "metadata": {
            "tags": []
          },
          "execution_count": 14
        }
      ]
    },
    {
      "cell_type": "code",
      "metadata": {
        "id": "GPzWyru4tBco",
        "colab_type": "code",
        "colab": {}
      },
      "source": [
        ""
      ],
      "execution_count": 0,
      "outputs": []
    }
  ]
}