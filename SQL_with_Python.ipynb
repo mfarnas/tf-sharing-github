{
  "nbformat": 4,
  "nbformat_minor": 0,
  "metadata": {
    "colab": {
      "name": "Copy of FR_SQL_with_Python.ipynb",
      "provenance": [],
      "authorship_tag": "ABX9TyOWYp/Jm8QWlcsROyT14Qhu"
    },
    "kernelspec": {
      "name": "python3",
      "display_name": "Python 3"
    }
  },
  "cells": [
    {
      "cell_type": "markdown",
      "metadata": {
        "id": "dtw0eQjB2za8",
        "colab_type": "text"
      },
      "source": [
        "This notebook demonstrates the use of SQL with Python"
      ]
    },
    {
      "cell_type": "code",
      "metadata": {
        "id": "czsOspP2QmNk",
        "colab_type": "code",
        "colab": {}
      },
      "source": [
        "# !pip install sqlalchemy\n",
        "# !pip install psycopg2\n",
        "# !pip install psycopg2-binary"
      ],
      "execution_count": 0,
      "outputs": []
    },
    {
      "cell_type": "code",
      "metadata": {
        "id": "1eqlnBmwQnbD",
        "colab_type": "code",
        "colab": {}
      },
      "source": [
        "# Import the SQL ALchemy engine\n",
        "from sqlalchemy import create_engine, inspect\n",
        "import pandas as pd"
      ],
      "execution_count": 0,
      "outputs": []
    },
    {
      "cell_type": "code",
      "metadata": {
        "id": "dDwbWEwfQr8z",
        "colab_type": "code",
        "outputId": "32d6c0e5-8a56-4a1a-9e36-fae35aa396fe",
        "colab": {
          "base_uri": "https://localhost:8080/",
          "height": 70
        }
      },
      "source": [
        "# Database credentials\n",
        "postgres_user = 'dsbc***'\n",
        "postgres_pw = '***'\n",
        "postgres_host = '***'\n",
        "postgres_port = '***'\n",
        "postgres_db = 'dvdrentals' #database_name\n",
        "\n",
        "# use the credentials to start a connection\n",
        "engine = create_engine('postgresql://{}:{}@{}:{}/{}'.format(\n",
        "    postgres_user, postgres_pw, postgres_host, postgres_port, postgres_db))"
      ],
      "execution_count": 0,
      "outputs": [
        {
          "output_type": "stream",
          "text": [
            "/usr/local/lib/python3.6/dist-packages/psycopg2/__init__.py:144: UserWarning: The psycopg2 wheel package will be renamed from release 2.8; in order to keep installing from binary please use \"pip install psycopg2-binary\" instead. For details see: <http://initd.org/psycopg/docs/install.html#binary-install-from-pypi>.\n",
            "  \"\"\")\n"
          ],
          "name": "stderr"
        }
      ]
    },
    {
      "cell_type": "code",
      "metadata": {
        "id": "ZuIwSAFWWh_E",
        "colab_type": "code",
        "outputId": "101f4368-38df-4528-eb0c-359c8d126cf7",
        "colab": {
          "base_uri": "https://localhost:8080/",
          "height": 1000
        }
      },
      "source": [
        "# inspect table_names & corresponding column_names in dvdrentals database\n",
        "inspector = inspect(engine)\n",
        "\n",
        "for table_name in inspector.get_table_names():\n",
        "  print('\\nTable: ' + table_name)\n",
        "\n",
        "  column_list = []\n",
        "  for column in inspector.get_columns(table_name):\n",
        "       column_list.append(column['name'])\n",
        "  print('Columns: {}'.format(column_list))"
      ],
      "execution_count": 0,
      "outputs": [
        {
          "output_type": "stream",
          "text": [
            "\n",
            "Table: actor\n",
            "Columns: ['actor_id', 'first_name', 'last_name', 'last_update']\n",
            "\n",
            "Table: address\n",
            "Columns: ['address_id', 'address', 'address2', 'district', 'city_id', 'postal_code', 'phone', 'last_update']\n",
            "\n",
            "Table: category\n",
            "Columns: ['category_id', 'name', 'last_update']\n",
            "\n",
            "Table: city\n",
            "Columns: ['city_id', 'city', 'country_id', 'last_update']\n",
            "\n",
            "Table: country\n",
            "Columns: ['country_id', 'country', 'last_update']\n",
            "\n",
            "Table: customer\n",
            "Columns: ['customer_id', 'store_id', 'first_name', 'last_name', 'email', 'address_id', 'activebool', 'create_date', 'last_update', 'active']\n",
            "\n",
            "Table: film_actor\n",
            "Columns: ['actor_id', 'film_id', 'last_update']\n",
            "\n",
            "Table: film_category\n",
            "Columns: ['film_id', 'category_id', 'last_update']\n",
            "\n",
            "Table: inventory\n",
            "Columns: ['inventory_id', 'film_id', 'store_id', 'last_update']\n",
            "\n",
            "Table: language\n",
            "Columns: ['language_id', 'name', 'last_update']\n",
            "\n",
            "Table: Example\n",
            "Columns: ['id', 'name']\n",
            "\n",
            "Table: MYDATA\n",
            "Columns: ['station', 'name', 'latitude', 'longitude', 'elevation', 'date', 'prcp']\n",
            "\n",
            "Table: film\n",
            "Columns: ['film_id', 'title', 'description', 'release_year', 'language_id', 'original_language_id', 'rental_duration', 'rental_rate', 'length', 'replacement_cost', 'rating', 'last_update', 'special_features', 'fulltext']\n",
            "\n",
            "Table: nyweather\n",
            "Columns: ['station', 'station_name', 'date', 'prcp']\n",
            "\n",
            "Table: payment\n",
            "Columns: ['payment_id', 'customer_id', 'staff_id', 'rental_id', 'amount', 'payment_date']\n",
            "\n",
            "Table: payment_p2007_01\n",
            "Columns: ['payment_id', 'customer_id', 'staff_id', 'rental_id', 'amount', 'payment_date']\n",
            "\n",
            "Table: payment_p2007_02\n",
            "Columns: ['payment_id', 'customer_id', 'staff_id', 'rental_id', 'amount', 'payment_date']\n",
            "\n",
            "Table: payment_p2007_03\n",
            "Columns: ['payment_id', 'customer_id', 'staff_id', 'rental_id', 'amount', 'payment_date']\n",
            "\n",
            "Table: payment_p2007_04\n",
            "Columns: ['payment_id', 'customer_id', 'staff_id', 'rental_id', 'amount', 'payment_date']\n",
            "\n",
            "Table: payment_p2007_05\n",
            "Columns: ['payment_id', 'customer_id', 'staff_id', 'rental_id', 'amount', 'payment_date']\n",
            "\n",
            "Table: payment_p2007_06\n",
            "Columns: ['payment_id', 'customer_id', 'staff_id', 'rental_id', 'amount', 'payment_date']\n",
            "\n",
            "Table: rental\n",
            "Columns: ['rental_id', 'rental_date', 'inventory_id', 'customer_id', 'return_date', 'staff_id', 'last_update']\n",
            "\n",
            "Table: staff\n",
            "Columns: ['staff_id', 'first_name', 'last_name', 'address_id', 'email', 'store_id', 'active', 'username', 'password', 'last_update', 'picture']\n",
            "\n",
            "Table: store\n",
            "Columns: ['store_id', 'manager_staff_id', 'address_id', 'last_update']\n"
          ],
          "name": "stdout"
        }
      ]
    },
    {
      "cell_type": "markdown",
      "metadata": {
        "id": "lH9wm_mEcKHM",
        "colab_type": "text"
      },
      "source": [
        "# QUERIES\n",
        "## 1. How many movies are released for each rating?"
      ]
    },
    {
      "cell_type": "code",
      "metadata": {
        "id": "V8i47TyDVTji",
        "colab_type": "code",
        "outputId": "cf115d4c-787a-4a08-e663-624da286b221",
        "colab": {
          "base_uri": "https://localhost:8080/",
          "height": 196
        }
      },
      "source": [
        "# SQL statement\n",
        "sql = '''\n",
        "SELECT DISTINCT rating, COUNT(*) AS movie_count\n",
        "FROM film\n",
        "GROUP BY rating\n",
        "'''\n",
        "\n",
        "# Execute the SQL statement\n",
        "movies = engine.execute(sql)\n",
        "\n",
        "# dispose the connection\n",
        "engine.dispose()\n",
        "\n",
        "# use fetchall() to get a list of rows from the results.\n",
        "rows = movies.fetchall()\n",
        "\n",
        "# convert to df\n",
        "rows_df = pd.DataFrame(rows, columns = movies.keys())\n",
        "rows_df"
      ],
      "execution_count": 0,
      "outputs": [
        {
          "output_type": "execute_result",
          "data": {
            "text/html": [
              "<div>\n",
              "<style scoped>\n",
              "    .dataframe tbody tr th:only-of-type {\n",
              "        vertical-align: middle;\n",
              "    }\n",
              "\n",
              "    .dataframe tbody tr th {\n",
              "        vertical-align: top;\n",
              "    }\n",
              "\n",
              "    .dataframe thead th {\n",
              "        text-align: right;\n",
              "    }\n",
              "</style>\n",
              "<table border=\"1\" class=\"dataframe\">\n",
              "  <thead>\n",
              "    <tr style=\"text-align: right;\">\n",
              "      <th></th>\n",
              "      <th>rating</th>\n",
              "      <th>movie_count</th>\n",
              "    </tr>\n",
              "  </thead>\n",
              "  <tbody>\n",
              "    <tr>\n",
              "      <th>0</th>\n",
              "      <td>G</td>\n",
              "      <td>178</td>\n",
              "    </tr>\n",
              "    <tr>\n",
              "      <th>1</th>\n",
              "      <td>PG</td>\n",
              "      <td>194</td>\n",
              "    </tr>\n",
              "    <tr>\n",
              "      <th>2</th>\n",
              "      <td>PG-13</td>\n",
              "      <td>223</td>\n",
              "    </tr>\n",
              "    <tr>\n",
              "      <th>3</th>\n",
              "      <td>R</td>\n",
              "      <td>195</td>\n",
              "    </tr>\n",
              "    <tr>\n",
              "      <th>4</th>\n",
              "      <td>NC-17</td>\n",
              "      <td>210</td>\n",
              "    </tr>\n",
              "  </tbody>\n",
              "</table>\n",
              "</div>"
            ],
            "text/plain": [
              "  rating  movie_count\n",
              "0      G          178\n",
              "1     PG          194\n",
              "2  PG-13          223\n",
              "3      R          195\n",
              "4  NC-17          210"
            ]
          },
          "metadata": {
            "tags": []
          },
          "execution_count": 5
        }
      ]
    },
    {
      "cell_type": "markdown",
      "metadata": {
        "id": "_lfR72DGdk5x",
        "colab_type": "text"
      },
      "source": [
        "## 2. What is the average rental duration for each rating?"
      ]
    },
    {
      "cell_type": "code",
      "metadata": {
        "id": "CjyGbYVeVT1j",
        "colab_type": "code",
        "outputId": "fafaeae3-97c4-4df7-de0c-7a510b28893f",
        "colab": {
          "base_uri": "https://localhost:8080/",
          "height": 196
        }
      },
      "source": [
        "# SQL statement\n",
        "sql = '''\n",
        "SELECT DISTINCT rating, ROUND(AVG(rental_duration), 2) AS avg_rental_duration\n",
        "FROM film\n",
        "GROUP BY rating;\n",
        "'''\n",
        "\n",
        "# Execute the SQL statement\n",
        "movies = engine.execute(sql)\n",
        "\n",
        "# dispose the connection\n",
        "engine.dispose()\n",
        "\n",
        "# use fetchall() to get a list of rows from the results.\n",
        "rows = movies.fetchall()\n",
        "\n",
        "# convert to df\n",
        "rows_df = pd.DataFrame(rows, columns = movies.keys())\n",
        "rows_df"
      ],
      "execution_count": 0,
      "outputs": [
        {
          "output_type": "execute_result",
          "data": {
            "text/html": [
              "<div>\n",
              "<style scoped>\n",
              "    .dataframe tbody tr th:only-of-type {\n",
              "        vertical-align: middle;\n",
              "    }\n",
              "\n",
              "    .dataframe tbody tr th {\n",
              "        vertical-align: top;\n",
              "    }\n",
              "\n",
              "    .dataframe thead th {\n",
              "        text-align: right;\n",
              "    }\n",
              "</style>\n",
              "<table border=\"1\" class=\"dataframe\">\n",
              "  <thead>\n",
              "    <tr style=\"text-align: right;\">\n",
              "      <th></th>\n",
              "      <th>rating</th>\n",
              "      <th>avg_rental_duration</th>\n",
              "    </tr>\n",
              "  </thead>\n",
              "  <tbody>\n",
              "    <tr>\n",
              "      <th>0</th>\n",
              "      <td>G</td>\n",
              "      <td>4.84</td>\n",
              "    </tr>\n",
              "    <tr>\n",
              "      <th>1</th>\n",
              "      <td>PG</td>\n",
              "      <td>5.08</td>\n",
              "    </tr>\n",
              "    <tr>\n",
              "      <th>2</th>\n",
              "      <td>PG-13</td>\n",
              "      <td>5.05</td>\n",
              "    </tr>\n",
              "    <tr>\n",
              "      <th>3</th>\n",
              "      <td>R</td>\n",
              "      <td>4.77</td>\n",
              "    </tr>\n",
              "    <tr>\n",
              "      <th>4</th>\n",
              "      <td>NC-17</td>\n",
              "      <td>5.14</td>\n",
              "    </tr>\n",
              "  </tbody>\n",
              "</table>\n",
              "</div>"
            ],
            "text/plain": [
              "  rating avg_rental_duration\n",
              "0      G                4.84\n",
              "1     PG                5.08\n",
              "2  PG-13                5.05\n",
              "3      R                4.77\n",
              "4  NC-17                5.14"
            ]
          },
          "metadata": {
            "tags": []
          },
          "execution_count": 6
        }
      ]
    },
    {
      "cell_type": "markdown",
      "metadata": {
        "id": "jIOKGjFGd4Yo",
        "colab_type": "text"
      },
      "source": [
        "## 3. What is the mean movie length? Calculate this by defining a function."
      ]
    },
    {
      "cell_type": "code",
      "metadata": {
        "id": "qirO0q5Td65E",
        "colab_type": "code",
        "outputId": "0626c29e-f3e4-4f24-f729-e51e34c69db9",
        "colab": {
          "base_uri": "https://localhost:8080/",
          "height": 33
        }
      },
      "source": [
        "def average(num_list):\n",
        "  total = 0\n",
        "  for i in num_list:\n",
        "    total += i\n",
        "\n",
        "  avg = total/len(num_list)\n",
        "  return avg\n",
        "\n",
        "# test\n",
        "average([2,4,6])"
      ],
      "execution_count": 0,
      "outputs": [
        {
          "output_type": "execute_result",
          "data": {
            "text/plain": [
              "4.0"
            ]
          },
          "metadata": {
            "tags": []
          },
          "execution_count": 7
        }
      ]
    },
    {
      "cell_type": "code",
      "metadata": {
        "id": "E2ghvASfhtYz",
        "colab_type": "code",
        "outputId": "102807d1-78ae-48c9-f3e3-4aeae2057c7a",
        "colab": {
          "base_uri": "https://localhost:8080/",
          "height": 33
        }
      },
      "source": [
        "# SQL statement\n",
        "sql = '''\n",
        "SELECT length\n",
        "FROM film;\n",
        "'''\n",
        "\n",
        "# Execute the SQL statement\n",
        "length = engine.execute(sql)\n",
        "\n",
        "# dispose the connection\n",
        "engine.dispose()\n",
        "\n",
        "# use fetchall() to get a list of rows from the results.\n",
        "rows = length.fetchall()\n",
        "type(rows) #RowProxy\n",
        "\n",
        "# extract numeric value from RowProxy objects into a list of numbers\n",
        "length = [x['length'] for x in rows]\n",
        "\n",
        "print('Mean movie length: {}'.format(average(length)))"
      ],
      "execution_count": 0,
      "outputs": [
        {
          "output_type": "stream",
          "text": [
            "Mean movie length: 115.272\n"
          ],
          "name": "stdout"
        }
      ]
    },
    {
      "cell_type": "code",
      "metadata": {
        "id": "GXXpE6chi3xy",
        "colab_type": "code",
        "outputId": "0d817c06-b3da-413d-fa17-01e54a18657c",
        "colab": {
          "base_uri": "https://localhost:8080/",
          "height": 33
        }
      },
      "source": [
        "# double check using sql\n",
        "sql = '''\n",
        "SELECT ROUND(AVG(length), 3)\n",
        "FROM film;\n",
        "'''\n",
        "\n",
        "# Execute the SQL statement\n",
        "length = engine.execute(sql)\n",
        "\n",
        "# dispose the connection\n",
        "engine.dispose()\n",
        "\n",
        "rows = length.fetchall()\n",
        "rows[0][0]"
      ],
      "execution_count": 0,
      "outputs": [
        {
          "output_type": "execute_result",
          "data": {
            "text/plain": [
              "Decimal('115.272')"
            ]
          },
          "metadata": {
            "tags": []
          },
          "execution_count": 9
        }
      ]
    },
    {
      "cell_type": "markdown",
      "metadata": {
        "id": "UHNR8W8xdskf",
        "colab_type": "text"
      },
      "source": [
        "## 4. What is the median movie length? Calculate this by defining a function."
      ]
    },
    {
      "cell_type": "code",
      "metadata": {
        "id": "bK1RSVSRVUOi",
        "colab_type": "code",
        "outputId": "933e612b-02a0-4fe1-895e-17cbe8650bae",
        "colab": {
          "base_uri": "https://localhost:8080/",
          "height": 33
        }
      },
      "source": [
        "def median(num_list):\n",
        "  num_list.sort()\n",
        "  len_list = len(num_list)\n",
        "\n",
        "  if len_list % 2 == 0:\n",
        "    mid_index = int(len_list/2 - 1)\n",
        "    result = (num_list[mid_index] + num_list[mid_index + 1])/2\n",
        "\n",
        "  else:\n",
        "    mid_index = int(round(len_list/2) - 1)\n",
        "    result = num_list[mid_index]\n",
        "\n",
        "  return result\n",
        "\n",
        "# test\n",
        "median([4,8,2,6]) #5\n",
        "median([4,2,6]) #4"
      ],
      "execution_count": 0,
      "outputs": [
        {
          "output_type": "execute_result",
          "data": {
            "text/plain": [
              "4"
            ]
          },
          "metadata": {
            "tags": []
          },
          "execution_count": 10
        }
      ]
    },
    {
      "cell_type": "code",
      "metadata": {
        "id": "VRvEGYOAmzIs",
        "colab_type": "code",
        "outputId": "9aa3d211-6115-484f-ee45-3244a89f8e81",
        "colab": {
          "base_uri": "https://localhost:8080/",
          "height": 33
        }
      },
      "source": [
        "# SQL statement\n",
        "sql = '''\n",
        "SELECT length\n",
        "FROM film;\n",
        "'''\n",
        "\n",
        "# Execute the SQL statement\n",
        "length = engine.execute(sql)\n",
        "\n",
        "# dispose the connection\n",
        "engine.dispose()\n",
        "\n",
        "# use fetchall() to get a list of rows from the results.\n",
        "rows = length.fetchall()\n",
        "\n",
        "# extract numeric value from RowProxy objects into a list of numbers\n",
        "length = [x['length'] for x in rows]\n",
        "\n",
        "print('Median movie length: {}'.format(median(length)))"
      ],
      "execution_count": 0,
      "outputs": [
        {
          "output_type": "stream",
          "text": [
            "Median movie length: 114.0\n"
          ],
          "name": "stdout"
        }
      ]
    },
    {
      "cell_type": "markdown",
      "metadata": {
        "id": "4B5MLnkgdtvH",
        "colab_type": "text"
      },
      "source": [
        "## 5. Calculate the standard deviation of the movie lengths. Calculate this by defining a function.\n",
        "#### Standard Deviation\n",
        "$$ \\sigma  = \\sqrt\\frac{\\sum(X - \\bar X)^2}{N - 1} $$\n",
        "Where \n",
        " * $X$ - Each individual value\n",
        " * $\\bar X$ - The mean of all values\n",
        " * $ \\sum$ - The sum of whatever comes next\n",
        " * $ N $ - The total number of values"
      ]
    },
    {
      "cell_type": "code",
      "metadata": {
        "id": "24-IEFu0VUWu",
        "colab_type": "code",
        "outputId": "86bb24b5-a8ce-4f12-8503-6421254f7808",
        "colab": {
          "base_uri": "https://localhost:8080/",
          "height": 33
        }
      },
      "source": [
        "def std_dev(num_list):\n",
        "  mean = average(num_list)\n",
        "  len_list = len(num_list)\n",
        "\n",
        "  sum_of_square_of_difference = 0\n",
        "  for i in num_list:\n",
        "    square_of_diff = (i - mean)**2\n",
        "    sum_of_square_of_difference += square_of_diff\n",
        "\n",
        "  numerator = sum_of_square_of_difference\n",
        "  denominator = len_list - 1\n",
        "\n",
        "  return round((numerator/denominator)**0.5, 3)\n",
        "\n",
        "std_dev([4,5,6])"
      ],
      "execution_count": 0,
      "outputs": [
        {
          "output_type": "execute_result",
          "data": {
            "text/plain": [
              "1.0"
            ]
          },
          "metadata": {
            "tags": []
          },
          "execution_count": 12
        }
      ]
    },
    {
      "cell_type": "code",
      "metadata": {
        "id": "VC6JCXatVUaa",
        "colab_type": "code",
        "outputId": "8a284276-60ac-4723-9f84-a95aa4b52d07",
        "colab": {
          "base_uri": "https://localhost:8080/",
          "height": 33
        }
      },
      "source": [
        "# SQL statement\n",
        "sql = '''\n",
        "SELECT length\n",
        "FROM film;\n",
        "'''\n",
        "\n",
        "# Execute the SQL statement\n",
        "length = engine.execute(sql)\n",
        "\n",
        "# dispose the connection\n",
        "engine.dispose()\n",
        "\n",
        "# use fetchall() to get a list of rows from the results.\n",
        "rows = length.fetchall()\n",
        "\n",
        "# extract numeric value from RowProxy objects into a list of numbers\n",
        "length = [x['length'] for x in rows]\n",
        "\n",
        "print('Standard deviation of movie length: {}'.format(std_dev(length)))"
      ],
      "execution_count": 0,
      "outputs": [
        {
          "output_type": "stream",
          "text": [
            "Standard deviation of movie length: 40.426\n"
          ],
          "name": "stdout"
        }
      ]
    },
    {
      "cell_type": "code",
      "metadata": {
        "id": "PzT0VbBdrqYL",
        "colab_type": "code",
        "outputId": "c32c629e-dba9-4606-fea3-4abaa12052e5",
        "colab": {
          "base_uri": "https://localhost:8080/",
          "height": 33
        }
      },
      "source": [
        "# double check using sql\n",
        "sql = '''\n",
        "SELECT ROUND(STDDEV(length), 3)\n",
        "FROM film;\n",
        "'''\n",
        "\n",
        "# Execute the SQL statement\n",
        "length = engine.execute(sql)\n",
        "\n",
        "# dispose the connection\n",
        "engine.dispose()\n",
        "\n",
        "rows = length.fetchall()\n",
        "rows[0][0]"
      ],
      "execution_count": 0,
      "outputs": [
        {
          "output_type": "execute_result",
          "data": {
            "text/plain": [
              "Decimal('40.426')"
            ]
          },
          "metadata": {
            "tags": []
          },
          "execution_count": 14
        }
      ]
    },
    {
      "cell_type": "code",
      "metadata": {
        "id": "GPzWyru4tBco",
        "colab_type": "code",
        "colab": {}
      },
      "source": [
        ""
      ],
      "execution_count": 0,
      "outputs": []
    }
  ]
}