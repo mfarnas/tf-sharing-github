{
 "cells": [
  {
   "cell_type": "code",
   "execution_count": 5,
   "metadata": {},
   "outputs": [
    {
     "name": "stdout",
     "output_type": "stream",
     "text": [
      "Hello world from Jupyter notebooks\n"
     ]
    }
   ],
   "source": [
    "print('Hello world from Jupyter notebooks')"
   ]
  },
  {
   "cell_type": "markdown",
   "metadata": {},
   "source": [
    "## Markdown\n",
    "\n",
    "So far we've only talked about code cells, but there are other kinds of cells as well. The main other kind of cell you should know about is **markdown**. This cell is actually a markdown cell. You can double click it to see and edit the raw markdown, then run the cell again to see the markdown rendered.\n",
    "\n",
    "When you're using notebooks to write reports, you want to be able to include prose that isn't very appropriate for code comments. Markdown is useful for this.\n",
    "\n",
    "By default every new cell is a code cell. To convert a cell to markdown, highlight the cell, make sure it's inactive, and type 'm'. It's that simple.\n",
    "\n",
    "Jupyter supports full markdown so you can do all sorts of things, like\n",
    "\n",
    "_Italics_\n",
    "\n",
    "__Bold__\n",
    "\n",
    "# Big Headers\n",
    "\n",
    "#### And small headers\n",
    "\n",
    "both `inline` code\n",
    "\n",
    "```python\n",
    "# And syntax-highlighted\n",
    "multiline()\n",
    "codeblock = \"samples\"\n",
    "```\n",
    "\n",
    "Embedded HTML like <kbd>key</kbd> tags and <span style=\"color:red;\">tags with custom CSS</span>.\n",
    "\n",
    "And LaTeX style equations: $e^{i\\pi} + 1 = 0$\n",
    "\n",
    "Probably most usefully, you have [links](http://jupyter-notebook.readthedocs.io/en/latest/notebook.html).\n",
    "\n",
    "That link above is the nice and readable documentation for Jupyter. It's worth looking through if you have any further questions about notebooks. For more detail on markdown specifically, [see here](http://jupyter-notebook.readthedocs.io/en/latest/examples/Notebook/Working%20With%20Markdown%20Cells.html). "
   ]
  },
  {
   "cell_type": "markdown",
   "metadata": {},
   "source": [
    "That should be enough to get you started with Jupyter. If you have any questions after reading [the docs](http://jupyter-notebook.readthedocs.io/en/latest/notebook.html), follow up with your support network!"
   ]
  },
  {
   "cell_type": "markdown",
   "metadata": {},
   "source": [
    "<kbd>test<kdb>\n",
    "    \n",
    "`this is inline`\n",
    "\n",
    "*italics*\n",
    "\n",
    "**bold**\n",
    "\n",
    "# head\n",
    "## sub-header\n",
    "### sub subheader\n",
    "#### yeayy\n",
    "\n",
    "Put link [here](https://www.thinkful.com/).\n",
    "\n",
    "```\n",
    "`inline code here`\n",
    "```"
   ]
  },
  {
   "cell_type": "code",
   "execution_count": null,
   "metadata": {},
   "outputs": [],
   "source": []
  }
 ],
 "metadata": {
  "kernelspec": {
   "display_name": "Python 3",
   "language": "python",
   "name": "python3"
  },
  "language_info": {
   "codemirror_mode": {
    "name": "ipython",
    "version": 3
   },
   "file_extension": ".py",
   "mimetype": "text/x-python",
   "name": "python",
   "nbconvert_exporter": "python",
   "pygments_lexer": "ipython3",
   "version": "3.7.3"
  }
 },
 "nbformat": 4,
 "nbformat_minor": 2
}
